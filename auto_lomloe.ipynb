{
 "cells": [
  {
   "cell_type": "markdown",
   "id": "4adb3732",
   "metadata": {},
   "source": []
  },
  {
   "cell_type": "code",
   "execution_count": 1,
   "id": "c6981bd1",
   "metadata": {},
   "outputs": [],
   "source": [
    "import pandas as pd"
   ]
  },
  {
   "cell_type": "code",
   "execution_count": 2,
   "id": "98436ac5",
   "metadata": {},
   "outputs": [],
   "source": [
    "# --- Paso 1: Cargar y limpiar el mapeo curricular con forward-fill ---\n",
    "mapeo = pd.read_excel(\n",
    "    \"Anexo - Descriptores currículo.xlsx\",\n",
    "    sheet_name=\"Esquema elementos currículo\",\n",
    "    usecols=[\n",
    "        \"Competencias específicas\",\n",
    "        \"Descriptores del perfil de salida\",\n",
    "        \"Criterios de evaluación\",\n",
    "        \"Saberes básicos\"\n",
    "    ],\n",
    "    dtype=str\n",
    ")\n",
    "\n",
    "# Forward-fill para propagar valores de celdas unidas\n",
    "mapeo[\n",
    "    [\n",
    "        \"Competencias específicas\",\n",
    "        \"Descriptores del perfil de salida\",\n",
    "        \"Criterios de evaluación\",\n",
    "    ]\n",
    "] = mapeo[\n",
    "    [\n",
    "        \"Competencias específicas\",\n",
    "        \"Descriptores del perfil de salida\",\n",
    "        \"Criterios de evaluación\",\n",
    "    ]\n",
    "].ffill()\n",
    "\n",
    "# Eliminar filas sin saber básico\n",
    "mapeo = mapeo.dropna(subset=[\"Saberes básicos\"])"
   ]
  },
  {
   "cell_type": "code",
   "execution_count": 3,
   "id": "3788bc04",
   "metadata": {},
   "outputs": [],
   "source": [
    "# --- Paso 2: Agrupar para capturar múltiples asociaciones ---\n",
    "agrupado = (\n",
    "    mapeo.groupby(\"Saberes básicos\")\n",
    "    .agg(\n",
    "        {\n",
    "            \"Competencias específicas\": lambda vals: sorted(\n",
    "                {str(v) for v in vals if pd.notna(v)}\n",
    "            ),\n",
    "            \"Descriptores del perfil de salida\": lambda vals: sorted(\n",
    "                {v for v in vals if pd.notna(v)}\n",
    "            ),\n",
    "            \"Criterios de evaluación\": lambda vals: sorted(\n",
    "                {v for v in vals if pd.notna(v)}\n",
    "            ),\n",
    "        }\n",
    "    )\n",
    "    .reset_index()\n",
    ")"
   ]
  },
  {
   "cell_type": "code",
   "execution_count": 4,
   "id": "ed44ef20",
   "metadata": {},
   "outputs": [],
   "source": [
    "# Convertir a diccionarios de listas\n",
    "dict_competencias = agrupado.set_index(\"Saberes básicos\")[\n",
    "    \"Competencias específicas\"\n",
    "].to_dict()\n",
    "dict_descriptores = agrupado.set_index(\"Saberes básicos\")[\n",
    "    \"Descriptores del perfil de salida\"\n",
    "].to_dict()\n",
    "dict_criterios = agrupado.set_index(\"Saberes básicos\")[\n",
    "    \"Criterios de evaluación\"\n",
    "].to_dict()"
   ]
  },
  {
   "cell_type": "code",
   "execution_count": null,
   "id": "1a7aad59",
   "metadata": {},
   "outputs": [],
   "source": [
    "# --- Paso 3: Función para rellenar campos considerando múltiples asociaciones ---\n",
    "\n",
    "def rellenar_campos(saberes_str):\n",
    "    if pd.isna(saberes_str):\n",
    "        return \"\", \"\", \"\"\n",
    "    saberes = [s.strip() for s in saberes_str.split(\", \")]\n",
    "    competencias = []\n",
    "    descriptores = []\n",
    "    criterios = []\n",
    "    for s in saberes:\n",
    "        competencias.extend(dict_competencias.get(s, []))\n",
    "        descriptores.extend(dict_descriptores.get(s, []))\n",
    "        criterios.extend(dict_criterios.get(s, []))\n",
    "    # Deduplicar y ordenar\n",
    "    competencias = sorted(set(\", \".join(competencias).split(\", \")))\n",
    "    descriptores = sorted(set(\", \".join(descriptores).split(\", \")))\n",
    "    criterios = sorted(set(\", \".join(criterios).split(\", \")))\n",
    "    # Devolver como cadenas\n",
    "    return (\n",
    "        \", \".join(competencias),\n",
    "        \", \".join(descriptores),\n",
    "        \", \".join(criterios),\n",
    "    )"
   ]
  },
  {
   "cell_type": "code",
   "execution_count": null,
   "id": "00bf7957",
   "metadata": {},
   "outputs": [],
   "source": [
    "# --- Paso 4: Leer archivo de entrada ---\n",
    "df_input = pd.read_excel(\n",
    "    \"justificación currículo cartas enemigo.xlsx\", index_col=\"Nº carta\", dtype=str\n",
    ")\n",
    "df_input = df_input.dropna(subset=[\"Saberes básicos\"])"
   ]
  },
  {
   "cell_type": "code",
   "execution_count": null,
   "id": "9f0d2b1f",
   "metadata": {},
   "outputs": [],
   "source": [
    "# --- Paso 5: Aplicar función y generar columnas nuevas ---\n",
    "df_input[['Competencias específicas', 'Descriptores del perfil de salida', 'Criterios de evaluación']] = \\\n",
    "    df_input['Saberes básicos'].apply(lambda x: pd.Series(rellenar_campos(x)))"
   ]
  },
  {
   "cell_type": "code",
   "execution_count": 8,
   "id": "a1fb17d5",
   "metadata": {},
   "outputs": [],
   "source": [
    "# --- Mostrar resultado al usuario ---\n",
    "# tools.display_dataframe_to_user(\"Resultado de Mapeo Curricular Completo\", df_input)\n",
    "\n",
    "# --- Guardar a nuevo Excel ---\n",
    "output_file = \"cartas_output_completo.xlsx\"\n",
    "df_input.to_excel(output_file, index=True)"
   ]
  }
 ],
 "metadata": {
  "kernelspec": {
   "display_name": "data_science",
   "language": "python",
   "name": "python3"
  },
  "language_info": {
   "codemirror_mode": {
    "name": "ipython",
    "version": 3
   },
   "file_extension": ".py",
   "mimetype": "text/x-python",
   "name": "python",
   "nbconvert_exporter": "python",
   "pygments_lexer": "ipython3",
   "version": "3.13.3"
  }
 },
 "nbformat": 4,
 "nbformat_minor": 5
}
